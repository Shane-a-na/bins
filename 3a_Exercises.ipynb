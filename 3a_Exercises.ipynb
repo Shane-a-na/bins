{
  "cells": [
    {
      "cell_type": "markdown",
      "metadata": {
        "id": "view-in-github",
        "colab_type": "text"
      },
      "source": [
        "<a href=\"https://colab.research.google.com/github/Shane-a-na/bins/blob/master/3a_Exercises.ipynb\" target=\"_parent\"><img src=\"https://colab.research.google.com/assets/colab-badge.svg\" alt=\"Open In Colab\"/></a>"
      ]
    },
    {
      "cell_type": "markdown",
      "metadata": {
        "id": "pJHfE2QWViWJ"
      },
      "source": [
        "# 3 Exercises Data Manipulation"
      ]
    },
    {
      "cell_type": "markdown",
      "metadata": {
        "id": "3P826jV8F-gj"
      },
      "source": [
        "## Task - understanding libraries and cells\n",
        "Put the following into your own words;\\\n",
        "NB - import libraries only need to be declared once in a notebook, these example repeat the import for explanatory purposes.\\\n",
        "NB - you dont have to keep declaring the array in every cell, these examples repeat the declaration for explanatory purposes\\\n",
        "NB - the values assigned to variables persist from cell to cell unless overwritten\n"
      ]
    },
    {
      "cell_type": "markdown",
      "metadata": {
        "id": "ZrvXuZ0x7bHr"
      },
      "source": [
        "## Task - data cleansing"
      ]
    },
    {
      "cell_type": "markdown",
      "metadata": {
        "id": "0J7_4C2W7f3_"
      },
      "source": [
        "#Completed\n",
        "Read in the demo3.csv data set, display shape, remove the row(s) with NaN values and display shape again"
      ]
    },
    {
      "cell_type": "code",
      "execution_count": 62,
      "metadata": {
        "colab": {
          "base_uri": "https://localhost:8080/"
        },
        "id": "BYTxRVpe7t07",
        "outputId": "c278379b-fae2-460a-f488-d4a689f0c0c5"
      },
      "outputs": [
        {
          "output_type": "stream",
          "name": "stdout",
          "text": [
            "(5, 2)\n",
            "(4, 2)\n"
          ]
        }
      ],
      "source": [
        "import pandas as pd\n",
        "\n",
        "# Read the data from a CSV file\n",
        "data = pd.read_csv('demo3.csv')\n",
        "\n",
        "print(data.shape)\n",
        "\n",
        "# Remove missing values\n",
        "data = data.dropna()\n",
        "\n",
        "print(data.shape)\n",
        "\n"
      ]
    },
    {
      "cell_type": "code",
      "execution_count": 63,
      "metadata": {
        "colab": {
          "base_uri": "https://localhost:8080/"
        },
        "id": "rnPBGnIBu8QY",
        "outputId": "ae8d21d1-812b-4304-8c52-bb4b6dd3c5de"
      },
      "outputs": [
        {
          "output_type": "stream",
          "name": "stdout",
          "text": [
            "     0    1  2\n",
            "0  1.0  NaN  2\n",
            "1  2.0  3.0  5\n",
            "2  NaN  4.0  6\n",
            "dropped\n",
            "     0    1  2\n",
            "1  2.0  3.0  5\n"
          ]
        }
      ],
      "source": [
        "import pandas as pd\n",
        "\n",
        "df = pd.DataFrame([[1,      np.nan, 2],\n",
        "                   [2,      3,      5],\n",
        "                   [np.nan, 4,      6]])\n",
        "print(df)\n",
        "print(\"dropped\")\n",
        "print(df.dropna())\n"
      ]
    },
    {
      "cell_type": "markdown",
      "metadata": {
        "id": "K094SsHfxicx"
      },
      "source": [
        "## Task - add a column"
      ]
    },
    {
      "cell_type": "markdown",
      "metadata": {
        "id": "mOMXBw4BUvAm"
      },
      "source": [
        "#Completed\n",
        "**add a column** to a demo1.csv dataframe which categories salary as less than, equal to or greater than 50k"
      ]
    },
    {
      "cell_type": "code",
      "execution_count": 64,
      "metadata": {
        "colab": {
          "base_uri": "https://localhost:8080/"
        },
        "id": "ARGaLH8oxzc-",
        "outputId": "fa95b10e-9144-4e08-e41c-8d5a77afad22"
      },
      "outputs": [
        {
          "output_type": "stream",
          "name": "stdout",
          "text": [
            "      Name  Age      City  Salary Department  Salary Group\n",
            "0     John   25  New York   50000         HR     Under 55k\n",
            "1     Emir   28    London   60000  Marketing      Over 55k\n",
            "2    Peter   32     Paris   70000         HR      Over 55k\n",
            "3   Olivia   30     Delhi   55000  Marketing  Equal to 50k\n",
            "4  Jackson   27  New York   65000         HR      Over 55k\n"
          ]
        }
      ],
      "source": [
        "# Read the CSV file into a DataFrame\n",
        "df = pd.read_csv('demo1.csv')\n",
        "\n",
        "# Create a new column 'Salary Group' based on salary\n",
        "df['Salary Group'] = ['Under 55k' if Salary < 55000 else 'Over 55k' if Salary > 55000 else 'Equal to 50k' for Salary in df['Salary']]\n",
        "\n",
        "# Print the DataFrame with the new column\n",
        "print(df)"
      ]
    },
    {
      "cell_type": "markdown",
      "metadata": {
        "id": "9IFKTFDr0Ht4"
      },
      "source": [
        "## Task - total of column"
      ]
    },
    {
      "cell_type": "markdown",
      "metadata": {
        "id": "_DDNfGCHU2fb"
      },
      "source": [
        "#Completed\n",
        "get a **total** of the salary column"
      ]
    },
    {
      "cell_type": "code",
      "execution_count": null,
      "metadata": {
        "id": "p5qDKAd60A_O"
      },
      "outputs": [],
      "source": [
        "# Read the CSV file into a DataFrame\n",
        "df = pd.read_csv('demo1.csv')\n",
        "\n",
        "# Calculate the total of 'Salary' column\n",
        "total_salary = df['Salary'].sum()\n",
        "\n",
        "# Print the total salary\n",
        "print(\"Total Salary:\", total_salary)"
      ]
    },
    {
      "cell_type": "markdown",
      "metadata": {
        "id": "lrz-43FxWTia"
      },
      "source": [
        "## Task - concatenate"
      ]
    },
    {
      "cell_type": "markdown",
      "metadata": {
        "id": "1r7kBlqoghP-"
      },
      "source": [
        "#Completed\n",
        "Read in files demo1.csv and demo2.csv to two separate dataframes. Concatenate the two dataframes vertically and display the result."
      ]
    },
    {
      "cell_type": "code",
      "execution_count": 65,
      "metadata": {
        "colab": {
          "base_uri": "https://localhost:8080/"
        },
        "id": "qZIoRfMehUTH",
        "outputId": "bfa859e7-4a91-452f-f9f7-aff448a3c3b2"
      },
      "outputs": [
        {
          "output_type": "stream",
          "name": "stdout",
          "text": [
            "      Name  Age      City  Salary Department     Name           Title\n",
            "0     John   25  New York   50000         HR     John   Sales Advisor\n",
            "1     Emir   28    London   60000  Marketing     Emir      Accountant\n",
            "2    Peter   32     Paris   70000         HR    Peter  Data Scientist\n",
            "3   Olivia   30     Delhi   55000  Marketing   Olivia      Accountant\n",
            "4  Jackson   27  New York   65000         HR  Jackson   Sales Advisor\n"
          ]
        }
      ],
      "source": [
        "# Read the CSV files into 2 DataFrames\n",
        "df1 = pd.read_csv('demo1.csv')\n",
        "df2 = pd.read_csv('demo2.csv')\n",
        "\n",
        "# Concatenate the DataFrames vertically\n",
        "result = pd.concat([df1, df2], axis=1)\n",
        "\n",
        "print(result)\n"
      ]
    },
    {
      "cell_type": "markdown",
      "metadata": {
        "id": "OX53BWPNWWtg"
      },
      "source": [
        "## Task - merge"
      ]
    },
    {
      "cell_type": "markdown",
      "metadata": {
        "id": "sCEG9QLog1XC"
      },
      "source": [
        "#Completed\n",
        "Read in files demo1.csv and demo2.csv to two separate dataframes. merge the two dataframes vertically and display the result./\n",
        "Compare the result with the previous task."
      ]
    },
    {
      "cell_type": "code",
      "execution_count": 66,
      "metadata": {
        "colab": {
          "base_uri": "https://localhost:8080/"
        },
        "id": "gRQBV6-ohlSA",
        "outputId": "5e6069f3-bcea-4e2b-8252-0bd4499e1010"
      },
      "outputs": [
        {
          "metadata": {
            "tags": null
          },
          "name": "stdout",
          "output_type": "stream",
          "text": [
            "      Name  Age      City  Salary Department           Title\n",
            "0     John   25  New York   50000         HR   Sales Advisor\n",
            "1     Emir   28    London   60000  Marketing      Accountant\n",
            "2    Peter   32     Paris   70000         HR  Data Scientist\n",
            "3   Olivia   30     Delhi   55000  Marketing      Accountant\n",
            "4  Jackson   27  New York   65000         HR   Sales Advisor\n"
          ]
        }
      ],
      "source": [
        "# Read the CSV files into 2 DataFrames\n",
        "df1 = pd.read_csv('demo1.csv')\n",
        "df2 = pd.read_csv('demo2.csv')\n",
        "\n",
        "#merge the dataframes\n",
        "df3 = pd.merge(df1, df2)\n",
        "\n",
        "print(df3)"
      ]
    },
    {
      "cell_type": "markdown",
      "metadata": {
        "id": "fH_7_BExaaEL"
      },
      "source": [
        "## Task - crosstab"
      ]
    },
    {
      "cell_type": "markdown",
      "metadata": {
        "id": "VU1__UETad_4"
      },
      "source": [
        "#Completed\n",
        "Read the crosstab example which uses a basic manually created data set which has columns related to the titanic data set. Load the titanic data set and 'create' cross tabs using pclass and alive, first for the number then secondly for the percentage"
      ]
    },
    {
      "cell_type": "code",
      "execution_count": 67,
      "metadata": {
        "colab": {
          "base_uri": "https://localhost:8080/"
        },
        "id": "v2d0QOw3bEYq",
        "outputId": "c2087d14-a9da-4f4b-97cf-2ffc3409c146"
      },
      "outputs": [
        {
          "output_type": "stream",
          "name": "stdout",
          "text": [
            "survived    0    1\n",
            "sex               \n",
            "female     81  233\n",
            "male      468  109\n",
            "\n",
            "survived          0          1\n",
            "sex                           \n",
            "female    25.796178  74.203822\n",
            "male      81.109185  18.890815\n"
          ]
        }
      ],
      "source": [
        "import seaborn as sns\n",
        "\n",
        "# Load the titanic dataset from seaborn\n",
        "df = sns.load_dataset('titanic')\n",
        "\n",
        "# Perform a cross-tabulation of 'Sex' and 'Survived'\n",
        "sex_survived_cross = pd.crosstab(df['sex'], df['survived'])\n",
        "print(sex_survived_cross)\n",
        "print()\n",
        "\n",
        "#Perform cross-tab with percentage\n",
        "sex_survived_cross_percent = pd.crosstab(df['sex'], df['survived'], normalize='index') * 100\n",
        "print(sex_survived_cross_percent)"
      ]
    },
    {
      "cell_type": "markdown",
      "metadata": {
        "id": "Vln_OvLZgF8s"
      },
      "source": [
        "## Task - **groupby**"
      ]
    },
    {
      "cell_type": "markdown",
      "metadata": {
        "id": "-sfRcvoAUL6r"
      },
      "source": [
        "#Completed\n",
        "groupby the demo1.csv file data by 'City'"
      ]
    },
    {
      "cell_type": "code",
      "execution_count": 68,
      "metadata": {
        "colab": {
          "base_uri": "https://localhost:8080/"
        },
        "id": "vAtmLMwXc8y1",
        "outputId": "03fdc745-e55c-43f3-8278-7d4893ef3f2c"
      },
      "outputs": [
        {
          "output_type": "stream",
          "name": "stdout",
          "text": [
            "City: Delhi\n",
            "     Name  Age   City  Salary Department\n",
            "3  Olivia   30  Delhi   55000  Marketing\n",
            "\n",
            "City: London\n",
            "   Name  Age    City  Salary Department\n",
            "1  Emir   28  London   60000  Marketing\n",
            "\n",
            "City: New York\n",
            "      Name  Age      City  Salary Department\n",
            "0     John   25  New York   50000         HR\n",
            "4  Jackson   27  New York   65000         HR\n",
            "\n",
            "City: Paris\n",
            "    Name  Age   City  Salary Department\n",
            "2  Peter   32  Paris   70000         HR\n",
            "\n"
          ]
        }
      ],
      "source": [
        "# Read the CSV file into a DataFrame\n",
        "df = pd.read_csv('demo1.csv')\n",
        "\n",
        "# Group the DataFrame by 'City' column\n",
        "grouped_df = df.groupby('City')\n",
        "\n",
        "# Iterate over the groups and print the group name and corresponding data\n",
        "for city, city_data in grouped_df:\n",
        "    print(\"City:\", city)\n",
        "    print(city_data)\n",
        "    print()"
      ]
    },
    {
      "cell_type": "markdown",
      "metadata": {
        "id": "2eWfKBtXiHTb"
      },
      "source": [
        "## Task - pivot table"
      ]
    },
    {
      "cell_type": "markdown",
      "metadata": {
        "id": "VzU5vVC9UZbr"
      },
      "source": [
        "#Completed\n",
        "Create a **pivot table** with 'City' as index, 'Salary' as values and aggfunc as mean"
      ]
    },
    {
      "cell_type": "code",
      "execution_count": 69,
      "metadata": {
        "colab": {
          "base_uri": "https://localhost:8080/"
        },
        "id": "TurrnOCMiJSh",
        "outputId": "943da1cc-7e37-4fd1-c9b5-571ed5d2eeb9"
      },
      "outputs": [
        {
          "output_type": "stream",
          "name": "stdout",
          "text": [
            "          Salary\n",
            "City            \n",
            "Delhi      55000\n",
            "London     60000\n",
            "New York   57500\n",
            "Paris      70000\n"
          ]
        }
      ],
      "source": [
        "# Read the CSV file into a DataFrame\n",
        "df = pd.read_csv('demo1.csv')\n",
        "\n",
        "# Create a pivot table with 'City' as index, 'Salary' as values and aggfunc as mean\n",
        "pivot = df.pivot_table(\n",
        "    values= 'Salary',\n",
        "    index= 'City',\n",
        "    columns=None,\n",
        "    aggfunc='mean',\n",
        "    fill_value=None,\n",
        "    margins=False,\n",
        "    dropna=True,\n",
        "    margins_name='All',\n",
        "    observed=False\n",
        ")\n",
        "\n",
        "# Print the pivot table\n",
        "print(pivot)\n"
      ]
    },
    {
      "cell_type": "markdown",
      "metadata": {
        "id": "7433mMSw0viE"
      },
      "source": [
        "## Task - write to a file"
      ]
    },
    {
      "cell_type": "markdown",
      "metadata": {
        "id": "pvTH-9pXVGT9"
      },
      "source": [
        "#Completed\n",
        "write out to a file the df example with salary groups"
      ]
    },
    {
      "cell_type": "code",
      "execution_count": 70,
      "metadata": {
        "colab": {
          "base_uri": "https://localhost:8080/"
        },
        "id": "O6n3LMMW0-73",
        "outputId": "5269824f-46f6-4753-b8a8-43848d1cea04"
      },
      "outputs": [
        {
          "output_type": "stream",
          "name": "stdout",
          "text": [
            "      Name  Age      City  Salary Department  Salary Group\n",
            "0     John   25  New York   50000         HR     Under 55k\n",
            "1     Emir   28    London   60000  Marketing      Over 55k\n",
            "2    Peter   32     Paris   70000         HR      Over 55k\n",
            "3   Olivia   30     Delhi   55000  Marketing  Equal to 50k\n",
            "4  Jackson   27  New York   65000         HR      Over 55k\n"
          ]
        }
      ],
      "source": [
        "# Read the CSV file into a DataFrame\n",
        "df = pd.read_csv('demo1.csv')\n",
        "\n",
        "# Create a new column 'Salary Group' based on age condition\n",
        "df['Salary Group'] = ['Under 55k' if Salary < 55000 else 'Over 55k' if Salary > 55000 else 'Equal to 50k' for Salary in df['Salary']]\n",
        "\n",
        "# Print the DataFrame with the new column\n",
        "print(df)\n",
        "\n",
        "# Write the DataFrame to a CSV file\n",
        "df.to_csv('output.csv', index=True)\n"
      ]
    }
  ],
  "metadata": {
    "colab": {
      "provenance": [],
      "include_colab_link": true
    },
    "kernelspec": {
      "display_name": "Python 3",
      "name": "python3"
    },
    "language_info": {
      "name": "python"
    }
  },
  "nbformat": 4,
  "nbformat_minor": 0
}