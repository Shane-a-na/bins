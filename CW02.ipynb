{
  "nbformat": 4,
  "nbformat_minor": 0,
  "metadata": {
    "colab": {
      "provenance": [],
      "authorship_tag": "ABX9TyNtze7u5vUtT1vC8VQfPp9/",
      "include_colab_link": true
    },
    "kernelspec": {
      "name": "python3",
      "display_name": "Python 3"
    },
    "language_info": {
      "name": "python"
    }
  },
  "cells": [
    {
      "cell_type": "markdown",
      "metadata": {
        "id": "view-in-github",
        "colab_type": "text"
      },
      "source": [
        "<a href=\"https://colab.research.google.com/github/Shane-a-na/bins/blob/master/CW02.ipynb\" target=\"_parent\"><img src=\"https://colab.research.google.com/assets/colab-badge.svg\" alt=\"Open In Colab\"/></a>"
      ]
    },
    {
      "cell_type": "markdown",
      "source": [
        "# Dataset and Significance Test Selection (10 marks)\n",
        "\n",
        "•\tThe dataset that I have chosen relates to Non-Alcoholic Fatty Liver Disease. There are 17549 rows and 10 columns of data that has been gathered\n",
        "\n",
        "•\tExplain where you obtained your dataset, its composition, and what question you intend to answer.\n",
        "I obtained the dataset from kaggle.com\n",
        "\n",
        "•\tBased on your data set selection, determine whether you need a parametric or non-parametric significance test and provide an explanation.  \n",
        "\n",
        "(Data sets containing the data from a population study of non-alcoholic fatty liver disease (NAFLD). Subjects with the condition and a set of matched control subjects were followed forward for metabolic conditions, cardiac endpoints, and death.\n",
        "\n",
        "nafld1 is a data frame with 17549 observations on the following 10 variables.)\n",
        "(nafld2 is a data frame with 400123 observations and 4 variables containing laboratory data)\n",
        "(There are 3 data sets: nafld1 contains baseline data and has one observation per subject, nafld2 has one observation for each (time dependent) continuous measurement, and nafld3 has one observation for each yes/no outcome that occured.)"
      ],
      "metadata": {
        "id": "Q2omaPlVAk7t"
      }
    },
    {
      "cell_type": "code",
      "source": [
        "import pandas as pd\n",
        "import numpy as np\n",
        "\n",
        "# Read the CSV file\n",
        "df = pd.read_csv('nafld1.csv')\n",
        "\n",
        "# Remove NaN values from the table\n",
        "df = df.dropna()\n",
        "\n",
        "# Remove duplicate rows\n",
        "df = df.drop_duplicates()\n",
        "\n",
        "# Print the new file\n",
        "print(df)"
      ],
      "metadata": {
        "id": "GV21cSbuB5mA",
        "colab": {
          "base_uri": "https://localhost:8080/"
        },
        "outputId": "6217428e-e446-4c33-f626-a4a4e8a42600"
      },
      "execution_count": 16,
      "outputs": [
        {
          "output_type": "stream",
          "name": "stdout",
          "text": [
            "       Unnamed: 0     id  age  male  weight  height        bmi  case.id  \\\n",
            "0            3631      1   57     0    60.0   163.0  22.690939  10630.0   \n",
            "1            8458      2   67     0    70.4   168.0  24.884028  14817.0   \n",
            "2            6298      3   53     1   105.8   186.0  30.453537      3.0   \n",
            "3           15398      4   56     1   109.3   170.0  37.830100   6628.0   \n",
            "5           14423      6   39     0    63.9   155.0  26.615590   7144.0   \n",
            "...           ...    ...  ...   ...     ...     ...        ...      ...   \n",
            "17541         873  17559   62     1   120.0   185.0  35.062089  17559.0   \n",
            "17542        3700  17560   56     0    84.6   159.0  33.296128  17560.0   \n",
            "17544       11130  17562   46     0    53.0   161.0  20.501023  12713.0   \n",
            "17545        1099  17563   52     1   111.8   154.0  47.335905  17563.0   \n",
            "17548        6658  17566   69     1    94.1   180.0  29.204650   2017.0   \n",
            "\n",
            "       futime  status  \n",
            "0        6261       0  \n",
            "1         624       0  \n",
            "2        1783       0  \n",
            "3        3143       0  \n",
            "5        1581       0  \n",
            "...       ...     ...  \n",
            "17541     470       0  \n",
            "17542     628       0  \n",
            "17544    1894       0  \n",
            "17545    3841       0  \n",
            "17548    2744       0  \n",
            "\n",
            "[12562 rows x 10 columns]\n"
          ]
        }
      ]
    },
    {
      "cell_type": "markdown",
      "source": [
        "# Significance Test (5 marks)\n",
        "\n",
        "•\tSelect and explain the most appropriate significance test based on your question and data set.\n",
        "\n",
        "•\tConsider the following significance tests for your analysis (you need only choose one):\n",
        "\n",
        "o\tIndependent t-test: Compare means between two independent groups.\n",
        "\n",
        "o\tMatched pairs t-test: Compare means between two related groups (paired data).\n",
        "\n",
        "o\tMann-Whitney U test: Compare medians between two independent groups when data is not normally distributed.\n",
        "\n",
        "o\tPearson correlation (Pearson r): Assess the linear relationship between two continuous variables.\n",
        "\n",
        "o\tSpearman's rank correlation: Assess the monotonic relationship between two ordinal or continuous variables.\n",
        "\n"
      ],
      "metadata": {
        "id": "GvoZYd_ZBFhA"
      }
    },
    {
      "cell_type": "code",
      "source": [],
      "metadata": {
        "id": "Mz7F6YmfB7Nk"
      },
      "execution_count": null,
      "outputs": []
    },
    {
      "cell_type": "markdown",
      "source": [
        "# Interpretation (10 marks)\n",
        "\n",
        "•\tCarefully interpret the results of your significance test, keeping in mind the context of your question.\n",
        "\n",
        "•\tAvoid misinterpretation of statistical results and draw meaningful conclusions.\n"
      ],
      "metadata": {
        "id": "0f6wN_7pBN5l"
      }
    },
    {
      "cell_type": "code",
      "source": [],
      "metadata": {
        "id": "8ODur-zsB8cG"
      },
      "execution_count": null,
      "outputs": []
    },
    {
      "cell_type": "markdown",
      "source": [
        "# Linear Regression Analysis: (25 marks)\n",
        "\n",
        "•\tLoad and inspect the 'wine.csv ‘dataset\n",
        "\n",
        "•\tExplain the concept of linear regression and its relevance to the problem\n",
        "\n",
        "•\tSplit the data into training and testing sets\n",
        "\n",
        "•\tImplement linear regression model on appropriate columns\n",
        "\n",
        "•\tFind the column pairs with the highest r_value and create a scatter plot with\n",
        "a line of regression\n",
        "\n",
        "•\tInterpret the findings\n",
        "\n"
      ],
      "metadata": {
        "id": "NpqtYo8gBh41"
      }
    },
    {
      "cell_type": "code",
      "source": [],
      "metadata": {
        "id": "SUA8u754B9g0"
      },
      "execution_count": null,
      "outputs": []
    },
    {
      "cell_type": "markdown",
      "source": [
        "# Logistic Regression Analysis: (25 marks)\n",
        "\n",
        "•\tExplain the concept of logistic regression and its relevance to the problem\n",
        "\n",
        "•\tSplit the data into training and testing sets\n",
        "\n",
        "•\tImplement logistic regression model with ‘class’ as the target column\n",
        "\n",
        "•\tInterpret the findings\n"
      ],
      "metadata": {
        "id": "aBHR0ZcGBqSw"
      }
    },
    {
      "cell_type": "code",
      "source": [],
      "metadata": {
        "id": "Tyqla4rlB-qO"
      },
      "execution_count": null,
      "outputs": []
    },
    {
      "cell_type": "markdown",
      "source": [
        "# Comparison, Analysis & Conclusions: (25 marks)\n",
        "\n",
        "•\tSummarize the findings from the linear and logistic regression\n",
        "\n",
        "•\tExplain relevant machine learning concepts\n",
        "\n",
        "•\tCompare and link the results of linear regression and logistic regression analyses\n"
      ],
      "metadata": {
        "id": "FxjBNy1GBxLp"
      }
    },
    {
      "cell_type": "code",
      "source": [],
      "metadata": {
        "id": "An5wzfARB_b8"
      },
      "execution_count": null,
      "outputs": []
    }
  ]
}