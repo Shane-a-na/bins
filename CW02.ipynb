{
  "nbformat": 4,
  "nbformat_minor": 0,
  "metadata": {
    "colab": {
      "provenance": [],
      "authorship_tag": "ABX9TyNC8lRyNqdxcOo2Ud4YB1nc",
      "include_colab_link": true
    },
    "kernelspec": {
      "name": "python3",
      "display_name": "Python 3"
    },
    "language_info": {
      "name": "python"
    }
  },
  "cells": [
    {
      "cell_type": "markdown",
      "metadata": {
        "id": "view-in-github",
        "colab_type": "text"
      },
      "source": [
        "<a href=\"https://colab.research.google.com/github/Shane-a-na/bins/blob/master/CW02.ipynb\" target=\"_parent\"><img src=\"https://colab.research.google.com/assets/colab-badge.svg\" alt=\"Open In Colab\"/></a>"
      ]
    },
    {
      "cell_type": "markdown",
      "source": [
        "# Dataset and Significance Test Selection (10 marks)\n",
        "•\tChoose a dataset (not used in the practical examples) with at least 100 rows, that is relevant to your interests or a problem you wish to investigate.\n",
        "•\tExplain where you obtained your dataset, its composition, and what question you intend to answer.\n",
        "•\tBased on your data set selection, determine whether you need a parametric or non-parametric significance test and provide an explanation.  \n"
      ],
      "metadata": {
        "id": "Q2omaPlVAk7t"
      }
    },
    {
      "cell_type": "code",
      "source": [
        "import pandas as pd\n",
        "\n",
        "# Read each CSV file into a pandas DataFrame\n",
        "df1 = pd.read_csv('Annual_mean_temperature_°C_for_the_UK_England_Scotland_Wales_and_Northern_Ireland_1884 - 2022.csv')\n",
        "df2 = pd.read_csv('Climate_and_weather.csv')\n",
        "df3 = pd.read_csv('Emissions.csv', header=None, names=['Territorial emissions', 'Residence emissions', 'Carbon footprint emissions'], skiprows=1)\n",
        "\n",
        "# Concatenate the DataFrames vertivally (along the rows)\n",
        "result = pd.concat([df1, df2, df3], ignore_index=True)\n",
        "\n",
        "# List of column names to convert\n",
        "columns_to_convert = ['date', 'Annual mean temperature', 'Annual mean temperature (trend)', 'Territorial emissions', 'Residence emissions', 'Carbon footprint emissions']\n",
        "\n",
        "# Convert the data type of selected columns\n",
        "result[columns_to_convert] = result[columns_to_convert].astype(float)\n",
        "\n",
        "# Print the DataFrame\n",
        "print(result.head(100))\n"
      ],
      "metadata": {
        "id": "GV21cSbuB5mA",
        "colab": {
          "base_uri": "https://localhost:8080/"
        },
        "outputId": "01847387-9f1b-4e62-8162-cb001729eea4"
      },
      "execution_count": 42,
      "outputs": [
        {
          "output_type": "stream",
          "name": "stdout",
          "text": [
            "    Unnamed: 0  1961 to 1990 long-term average  \\\n",
            "0       1884.0                            8.28   \n",
            "1       1885.0                            8.28   \n",
            "2       1886.0                            8.28   \n",
            "3       1887.0                            8.28   \n",
            "4       1888.0                            8.28   \n",
            "..         ...                             ...   \n",
            "95      1979.0                            8.28   \n",
            "96      1980.0                            8.28   \n",
            "97      1981.0                            8.28   \n",
            "98      1982.0                            8.28   \n",
            "99      1983.0                            8.28   \n",
            "\n",
            "    1991 to 2020 long-term average    UK  England  Northern Ireland  Scotland  \\\n",
            "0                             9.07  8.48     9.26              8.70      7.05   \n",
            "1                             9.07  7.36     8.11              7.81      5.96   \n",
            "2                             9.07  7.45     8.25              7.79      5.94   \n",
            "3                             9.07  7.51     7.97              8.32      6.58   \n",
            "4                             9.07  7.28     7.82              8.00      6.18   \n",
            "..                             ...   ...      ...               ...       ...   \n",
            "95                            9.07  7.59     8.40              7.63      6.18   \n",
            "96                            9.07  8.26     8.92              8.47      7.04   \n",
            "97                            9.07  8.10     8.84              8.36      6.73   \n",
            "98                            9.07  8.66     9.44              8.62      7.27   \n",
            "99                            9.07  8.83     9.60              9.03      7.40   \n",
            "\n",
            "    Wales  date  Annual mean temperature  Annual mean temperature (trend)  \\\n",
            "0    8.71   NaN                      NaN                              NaN   \n",
            "1    7.57   NaN                      NaN                              NaN   \n",
            "2    7.86   NaN                      NaN                              NaN   \n",
            "3    7.52   NaN                      NaN                              NaN   \n",
            "4    7.52   NaN                      NaN                              NaN   \n",
            "..    ...   ...                      ...                              ...   \n",
            "95   7.86   NaN                      NaN                              NaN   \n",
            "96   8.51   NaN                      NaN                              NaN   \n",
            "97   8.44   NaN                      NaN                              NaN   \n",
            "98   8.96   NaN                      NaN                              NaN   \n",
            "99   9.16   NaN                      NaN                              NaN   \n",
            "\n",
            "    Territorial emissions  Residence emissions  Carbon footprint emissions  \n",
            "0                     NaN                  NaN                         NaN  \n",
            "1                     NaN                  NaN                         NaN  \n",
            "2                     NaN                  NaN                         NaN  \n",
            "3                     NaN                  NaN                         NaN  \n",
            "4                     NaN                  NaN                         NaN  \n",
            "..                    ...                  ...                         ...  \n",
            "95                    NaN                  NaN                         NaN  \n",
            "96                    NaN                  NaN                         NaN  \n",
            "97                    NaN                  NaN                         NaN  \n",
            "98                    NaN                  NaN                         NaN  \n",
            "99                    NaN                  NaN                         NaN  \n",
            "\n",
            "[100 rows x 14 columns]\n"
          ]
        }
      ]
    },
    {
      "cell_type": "markdown",
      "source": [
        "# Significance Test (5 marks)\n",
        "•\tSelect and explain the most appropriate significance test based on your question and data set.\n",
        "•\tConsider the following significance tests for your analysis (you need only choose one):\n",
        "o\tIndependent t-test: Compare means between two independent groups.\n",
        "o\tMatched pairs t-test: Compare means between two related groups (paired data).\n",
        "o\tMann-Whitney U test: Compare medians between two independent groups when data is not normally distributed.\n",
        "o\tPearson correlation (Pearson r): Assess the linear relationship between two continuous variables.\n",
        "o\tSpearman's rank correlation: Assess the monotonic relationship between two ordinal or continuous variables.\n",
        "\n"
      ],
      "metadata": {
        "id": "GvoZYd_ZBFhA"
      }
    },
    {
      "cell_type": "code",
      "source": [],
      "metadata": {
        "id": "Mz7F6YmfB7Nk"
      },
      "execution_count": null,
      "outputs": []
    },
    {
      "cell_type": "markdown",
      "source": [
        "# Interpretation (10 marks)\n",
        "•\tCarefully interpret the results of your significance test, keeping in mind the context of your question.\n",
        "•\tAvoid misinterpretation of statistical results and draw meaningful conclusions.\n"
      ],
      "metadata": {
        "id": "0f6wN_7pBN5l"
      }
    },
    {
      "cell_type": "code",
      "source": [],
      "metadata": {
        "id": "8ODur-zsB8cG"
      },
      "execution_count": null,
      "outputs": []
    },
    {
      "cell_type": "markdown",
      "source": [
        "# Linear Regression Analysis: (25 marks)\n",
        "•\tLoad and inspect the 'wine.csv ‘dataset\n",
        "•\tExplain the concept of linear regression and its relevance to the problem\n",
        "•\tSplit the data into training and testing sets\n",
        "•\tImplement linear regression model on appropriate columns\n",
        "•\tFind the column pairs with the highest r_value and create a scatter plot with a line of regression\n",
        "•\tInterpret the findings\n",
        "\n"
      ],
      "metadata": {
        "id": "NpqtYo8gBh41"
      }
    },
    {
      "cell_type": "code",
      "source": [],
      "metadata": {
        "id": "SUA8u754B9g0"
      },
      "execution_count": null,
      "outputs": []
    },
    {
      "cell_type": "markdown",
      "source": [
        "# Logistic Regression Analysis: (25 marks)\n",
        "•\tExplain the concept of logistic regression and its relevance to the problem\n",
        "•\tSplit the data into training and testing sets\n",
        "•\tImplement logistic regression model with ‘class’ as the target column\n",
        "•\tInterpret the findings\n"
      ],
      "metadata": {
        "id": "aBHR0ZcGBqSw"
      }
    },
    {
      "cell_type": "code",
      "source": [],
      "metadata": {
        "id": "Tyqla4rlB-qO"
      },
      "execution_count": null,
      "outputs": []
    },
    {
      "cell_type": "markdown",
      "source": [
        "# Comparison, Analysis & Conclusions: (25 marks)\n",
        "•\tSummarize the findings from the linear and logistic regression\n",
        "•\tExplain relevant machine learning concepts\n",
        "•\tCompare and link the results of linear regression and logistic regression analyses\n"
      ],
      "metadata": {
        "id": "FxjBNy1GBxLp"
      }
    },
    {
      "cell_type": "code",
      "source": [],
      "metadata": {
        "id": "An5wzfARB_b8"
      },
      "execution_count": null,
      "outputs": []
    }
  ]
}