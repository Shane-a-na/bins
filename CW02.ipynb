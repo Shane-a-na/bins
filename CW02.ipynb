{
  "nbformat": 4,
  "nbformat_minor": 0,
  "metadata": {
    "colab": {
      "provenance": [],
      "authorship_tag": "ABX9TyM8Kr0xvXWPF0UMaBZrDauy",
      "include_colab_link": true
    },
    "kernelspec": {
      "name": "python3",
      "display_name": "Python 3"
    },
    "language_info": {
      "name": "python"
    }
  },
  "cells": [
    {
      "cell_type": "markdown",
      "metadata": {
        "id": "view-in-github",
        "colab_type": "text"
      },
      "source": [
        "<a href=\"https://colab.research.google.com/github/Shane-a-na/bins/blob/master/CW02.ipynb\" target=\"_parent\"><img src=\"https://colab.research.google.com/assets/colab-badge.svg\" alt=\"Open In Colab\"/></a>"
      ]
    },
    {
      "cell_type": "markdown",
      "source": [
        "# Dataset and Significance Test Selection (10 marks)\n",
        "•\tChoose a dataset (not used in the practical examples) with at least 100 rows, that is relevant to your interests or a problem you wish to investigate.\n",
        "•\tExplain where you obtained your dataset, its composition, and what question you intend to answer.\n",
        "•\tBased on your data set selection, determine whether you need a parametric or non-parametric significance test and provide an explanation.  \n"
      ],
      "metadata": {
        "id": "Q2omaPlVAk7t"
      }
    },
    {
      "cell_type": "code",
      "source": [
        "import pandas as pd\n",
        "\n",
        "# Read each CSV file into a pandas DataFrame\n",
        "df1 = pd.read_csv('Annual_mean_temperature_°C_for_the_UK_England_Scotland_Wales_and_Northern_Ireland_1884 - 2022.csv')\n",
        "df2 = pd.read_csv('Climate_and_weather.csv')\n",
        "df3 = pd.read_csv('Emissions.csv')\n",
        "\n",
        "# Concatenate the DataFrames vertivally (along the rows)\n",
        "result = pd.concat([df1, df2, df3], ignore_index=True)\n",
        "\n",
        "# Remove rows with NaN values\n",
        "# result = result.dropna()\n",
        "\n",
        "# Remove columns with NaN values\n",
        "# result = result.dropna(axis=1)\n",
        "\n",
        "# Print the DataFrame\n",
        "print(result)\n"
      ],
      "metadata": {
        "id": "GV21cSbuB5mA",
        "colab": {
          "base_uri": "https://localhost:8080/"
        },
        "outputId": "4b1fcefc-aee1-4d08-a145-42f1d3e14218"
      },
      "execution_count": 18,
      "outputs": [
        {
          "output_type": "stream",
          "name": "stdout",
          "text": [
            "     Unnamed: 0  1961 to 1990 long-term average  \\\n",
            "0        1884.0                            8.28   \n",
            "1        1885.0                            8.28   \n",
            "2        1886.0                            8.28   \n",
            "3        1887.0                            8.28   \n",
            "4        1888.0                            8.28   \n",
            "..          ...                             ...   \n",
            "306      2018.0                             NaN   \n",
            "307      2019.0                             NaN   \n",
            "308      2020.0                             NaN   \n",
            "309      2021.0                             NaN   \n",
            "310      2022.0                             NaN   \n",
            "\n",
            "     1991 to 2020 long-term average    UK  England  Northern Ireland  \\\n",
            "0                              9.07  8.48     9.26              8.70   \n",
            "1                              9.07  7.36     8.11              7.81   \n",
            "2                              9.07  7.45     8.25              7.79   \n",
            "3                              9.07  7.51     7.97              8.32   \n",
            "4                              9.07  7.28     7.82              8.00   \n",
            "..                              ...   ...      ...               ...   \n",
            "306                             NaN   NaN      NaN               NaN   \n",
            "307                             NaN   NaN      NaN               NaN   \n",
            "308                             NaN   NaN      NaN               NaN   \n",
            "309                             NaN   NaN      NaN               NaN   \n",
            "310                             NaN   NaN      NaN               NaN   \n",
            "\n",
            "     Scotland  Wales  date  Annual mean temperature  \\\n",
            "0        7.05   8.71   NaN                      NaN   \n",
            "1        5.96   7.57   NaN                      NaN   \n",
            "2        5.94   7.86   NaN                      NaN   \n",
            "3        6.58   7.52   NaN                      NaN   \n",
            "4        6.18   7.52   NaN                      NaN   \n",
            "..        ...    ...   ...                      ...   \n",
            "306       NaN    NaN   NaN                      NaN   \n",
            "307       NaN    NaN   NaN                      NaN   \n",
            "308       NaN    NaN   NaN                      NaN   \n",
            "309       NaN    NaN   NaN                      NaN   \n",
            "310       NaN    NaN   NaN                      NaN   \n",
            "\n",
            "     Annual mean temperature (trend)  Territorial emissions  \\\n",
            "0                                NaN                    NaN   \n",
            "1                                NaN                    NaN   \n",
            "2                                NaN                    NaN   \n",
            "3                                NaN                    NaN   \n",
            "4                                NaN                    NaN   \n",
            "..                               ...                    ...   \n",
            "306                              NaN              464.80755   \n",
            "307                              NaN              450.43518   \n",
            "308                              NaN              406.29217   \n",
            "309                              NaN              426.51000   \n",
            "310                              NaN              417.07551   \n",
            "\n",
            "     Residence emissions  Carbon footprint emissions  \n",
            "0                    NaN                         NaN  \n",
            "1                    NaN                         NaN  \n",
            "2                    NaN                         NaN  \n",
            "3                    NaN                         NaN  \n",
            "4                    NaN                         NaN  \n",
            "..                   ...                         ...  \n",
            "306             564.1445                    689.8844  \n",
            "307             550.5838                    670.4746  \n",
            "308             488.5964                    582.0048  \n",
            "309             502.7866                         NaN  \n",
            "310                  NaN                         NaN  \n",
            "\n",
            "[311 rows x 14 columns]\n"
          ]
        }
      ]
    },
    {
      "cell_type": "markdown",
      "source": [
        "# Significance Test (5 marks)\n",
        "•\tSelect and explain the most appropriate significance test based on your question and data set.\n",
        "•\tConsider the following significance tests for your analysis (you need only choose one):\n",
        "o\tIndependent t-test: Compare means between two independent groups.\n",
        "o\tMatched pairs t-test: Compare means between two related groups (paired data).\n",
        "o\tMann-Whitney U test: Compare medians between two independent groups when data is not normally distributed.\n",
        "o\tPearson correlation (Pearson r): Assess the linear relationship between two continuous variables.\n",
        "o\tSpearman's rank correlation: Assess the monotonic relationship between two ordinal or continuous variables.\n",
        "\n"
      ],
      "metadata": {
        "id": "GvoZYd_ZBFhA"
      }
    },
    {
      "cell_type": "code",
      "source": [],
      "metadata": {
        "id": "Mz7F6YmfB7Nk"
      },
      "execution_count": null,
      "outputs": []
    },
    {
      "cell_type": "markdown",
      "source": [
        "# Interpretation (10 marks)\n",
        "•\tCarefully interpret the results of your significance test, keeping in mind the context of your question.\n",
        "•\tAvoid misinterpretation of statistical results and draw meaningful conclusions.\n"
      ],
      "metadata": {
        "id": "0f6wN_7pBN5l"
      }
    },
    {
      "cell_type": "code",
      "source": [],
      "metadata": {
        "id": "8ODur-zsB8cG"
      },
      "execution_count": null,
      "outputs": []
    },
    {
      "cell_type": "markdown",
      "source": [
        "# Linear Regression Analysis: (25 marks)\n",
        "•\tLoad and inspect the 'wine.csv ‘dataset\n",
        "•\tExplain the concept of linear regression and its relevance to the problem\n",
        "•\tSplit the data into training and testing sets\n",
        "•\tImplement linear regression model on appropriate columns\n",
        "•\tFind the column pairs with the highest r_value and create a scatter plot with a line of regression\n",
        "•\tInterpret the findings\n",
        "\n"
      ],
      "metadata": {
        "id": "NpqtYo8gBh41"
      }
    },
    {
      "cell_type": "code",
      "source": [],
      "metadata": {
        "id": "SUA8u754B9g0"
      },
      "execution_count": null,
      "outputs": []
    },
    {
      "cell_type": "markdown",
      "source": [
        "# Logistic Regression Analysis: (25 marks)\n",
        "•\tExplain the concept of logistic regression and its relevance to the problem\n",
        "•\tSplit the data into training and testing sets\n",
        "•\tImplement logistic regression model with ‘class’ as the target column\n",
        "•\tInterpret the findings\n"
      ],
      "metadata": {
        "id": "aBHR0ZcGBqSw"
      }
    },
    {
      "cell_type": "code",
      "source": [],
      "metadata": {
        "id": "Tyqla4rlB-qO"
      },
      "execution_count": null,
      "outputs": []
    },
    {
      "cell_type": "markdown",
      "source": [
        "# Comparison, Analysis & Conclusions: (25 marks)\n",
        "•\tSummarize the findings from the linear and logistic regression\n",
        "•\tExplain relevant machine learning concepts\n",
        "•\tCompare and link the results of linear regression and logistic regression analyses\n"
      ],
      "metadata": {
        "id": "FxjBNy1GBxLp"
      }
    },
    {
      "cell_type": "code",
      "source": [],
      "metadata": {
        "id": "An5wzfARB_b8"
      },
      "execution_count": null,
      "outputs": []
    }
  ]
}