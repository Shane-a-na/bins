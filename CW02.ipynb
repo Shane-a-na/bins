{
  "nbformat": 4,
  "nbformat_minor": 0,
  "metadata": {
    "colab": {
      "provenance": [],
      "toc_visible": true,
      "authorship_tag": "ABX9TyOA4lxw7n86VroFg43gD7H5",
      "include_colab_link": true
    },
    "kernelspec": {
      "name": "python3",
      "display_name": "Python 3"
    },
    "language_info": {
      "name": "python"
    }
  },
  "cells": [
    {
      "cell_type": "markdown",
      "metadata": {
        "id": "view-in-github",
        "colab_type": "text"
      },
      "source": [
        "<a href=\"https://colab.research.google.com/github/Shane-a-na/bins/blob/master/CW02.ipynb\" target=\"_parent\"><img src=\"https://colab.research.google.com/assets/colab-badge.svg\" alt=\"Open In Colab\"/></a>"
      ]
    },
    {
      "cell_type": "markdown",
      "source": [
        "# Dataset and Significance Test Selection (10 marks)\n",
        "•\tChoose a dataset (not used in the practical examples) with at least 100 rows, that is relevant to your interests or a problem you wish to investigate.\n",
        "•\tExplain where you obtained your dataset, its composition, and what question you intend to answer.\n",
        "•\tBased on your data set selection, determine whether you need a parametric or non-parametric significance test and provide an explanation.  \n"
      ],
      "metadata": {
        "id": "Q2omaPlVAk7t"
      }
    },
    {
      "cell_type": "code",
      "source": [
        "import numpy as np\n",
        "import matplotlib.pyplot as plt\n",
        "from sklearn.linear_model import LinearRegression\n",
        "\n"
      ],
      "metadata": {
        "id": "GV21cSbuB5mA"
      },
      "execution_count": null,
      "outputs": []
    },
    {
      "cell_type": "markdown",
      "source": [
        "# Significance Test (5 marks)\n",
        "•\tSelect and explain the most appropriate significance test based on your question and data set.\n",
        "•\tConsider the following significance tests for your analysis (you need only choose one):\n",
        "o\tIndependent t-test: Compare means between two independent groups.\n",
        "o\tMatched pairs t-test: Compare means between two related groups (paired data).\n",
        "o\tMann-Whitney U test: Compare medians between two independent groups when data is not normally distributed.\n",
        "o\tPearson correlation (Pearson r): Assess the linear relationship between two continuous variables.\n",
        "o\tSpearman's rank correlation: Assess the monotonic relationship between two ordinal or continuous variables.\n",
        "\n"
      ],
      "metadata": {
        "id": "GvoZYd_ZBFhA"
      }
    },
    {
      "cell_type": "code",
      "source": [],
      "metadata": {
        "id": "Mz7F6YmfB7Nk"
      },
      "execution_count": null,
      "outputs": []
    },
    {
      "cell_type": "markdown",
      "source": [
        "# Interpretation (10 marks)\n",
        "•\tCarefully interpret the results of your significance test, keeping in mind the context of your question.\n",
        "•\tAvoid misinterpretation of statistical results and draw meaningful conclusions.\n"
      ],
      "metadata": {
        "id": "0f6wN_7pBN5l"
      }
    },
    {
      "cell_type": "code",
      "source": [],
      "metadata": {
        "id": "8ODur-zsB8cG"
      },
      "execution_count": null,
      "outputs": []
    },
    {
      "cell_type": "markdown",
      "source": [
        "# Linear Regression Analysis: (25 marks)\n",
        "•\tLoad and inspect the 'wine.csv ‘dataset\n",
        "•\tExplain the concept of linear regression and its relevance to the problem\n",
        "•\tSplit the data into training and testing sets\n",
        "•\tImplement linear regression model on appropriate columns\n",
        "•\tFind the column pairs with the highest r_value and create a scatter plot with a line of regression\n",
        "•\tInterpret the findings\n",
        "\n"
      ],
      "metadata": {
        "id": "NpqtYo8gBh41"
      }
    },
    {
      "cell_type": "code",
      "source": [],
      "metadata": {
        "id": "SUA8u754B9g0"
      },
      "execution_count": null,
      "outputs": []
    },
    {
      "cell_type": "markdown",
      "source": [
        "# Logistic Regression Analysis: (25 marks)\n",
        "•\tExplain the concept of logistic regression and its relevance to the problem\n",
        "•\tSplit the data into training and testing sets\n",
        "•\tImplement logistic regression model with ‘class’ as the target column\n",
        "•\tInterpret the findings\n"
      ],
      "metadata": {
        "id": "aBHR0ZcGBqSw"
      }
    },
    {
      "cell_type": "code",
      "source": [],
      "metadata": {
        "id": "Tyqla4rlB-qO"
      },
      "execution_count": null,
      "outputs": []
    },
    {
      "cell_type": "markdown",
      "source": [
        "# Comparison, Analysis & Conclusions: (25 marks)\n",
        "•\tSummarize the findings from the linear and logistic regression\n",
        "•\tExplain relevant machine learning concepts\n",
        "•\tCompare and link the results of linear regression and logistic regression analyses\n"
      ],
      "metadata": {
        "id": "FxjBNy1GBxLp"
      }
    },
    {
      "cell_type": "code",
      "source": [],
      "metadata": {
        "id": "An5wzfARB_b8"
      },
      "execution_count": null,
      "outputs": []
    }
  ]
}