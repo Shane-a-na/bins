{
  "nbformat": 4,
  "nbformat_minor": 0,
  "metadata": {
    "colab": {
      "provenance": [],
      "toc_visible": true,
      "authorship_tag": "ABX9TyOTgILJIasWzNfd14RsTT2i",
      "include_colab_link": true
    },
    "kernelspec": {
      "name": "python3",
      "display_name": "Python 3"
    },
    "language_info": {
      "name": "python"
    }
  },
  "cells": [
    {
      "cell_type": "markdown",
      "metadata": {
        "id": "view-in-github",
        "colab_type": "text"
      },
      "source": [
        "<a href=\"https://colab.research.google.com/github/Shane-a-na/bins/blob/master/Student_Data.ipynb\" target=\"_parent\"><img src=\"https://colab.research.google.com/assets/colab-badge.svg\" alt=\"Open In Colab\"/></a>"
      ]
    },
    {
      "cell_type": "markdown",
      "source": [
        "## Introduction and Preliminary Findings:"
      ],
      "metadata": {
        "id": "B4bPxJNomxW3"
      }
    },
    {
      "cell_type": "code",
      "execution_count": 2,
      "metadata": {
        "id": "zTbr66Wm_24-",
        "colab": {
          "base_uri": "https://localhost:8080/"
        },
        "outputId": "50bae3f9-7a54-4314-c910-e4e03cab0c8d"
      },
      "outputs": [
        {
          "output_type": "stream",
          "name": "stdout",
          "text": [
            "     Marital_status  Application_order                           Course  \\\n",
            "0            single                NaN                          Nursing   \n",
            "1                 ?                5.0  Animation and Multimedia Design   \n",
            "2            single                1.0                          Tourism   \n",
            "3            single                5.0             Communication Design   \n",
            "4            single                2.0     Journalism and Communication   \n",
            "...             ...                ...                              ...   \n",
            "4420         single                6.0     Journalism and Communication   \n",
            "4421         single                2.0     Journalism and Communication   \n",
            "4422         single                1.0                          Nursing   \n",
            "4423         single                1.0                       Management   \n",
            "4424         single                1.0     Journalism and Communication   \n",
            "\n",
            "      Previous_qualification  Mother's_qualification  Father's_qualification  \\\n",
            "0                        NaN                     NaN                     NaN   \n",
            "1                        1.0                    19.0                    12.0   \n",
            "2                        1.0                     1.0                     3.0   \n",
            "3                        1.0                    37.0                    37.0   \n",
            "4                        1.0                    38.0                    37.0   \n",
            "...                      ...                     ...                     ...   \n",
            "4420                     1.0                     1.0                     1.0   \n",
            "4421                     1.0                     1.0                     1.0   \n",
            "4422                     1.0                    37.0                    37.0   \n",
            "4423                     1.0                    37.0                    37.0   \n",
            "4424                     1.0                    38.0                    37.0   \n",
            "\n",
            "      Admission_grade Educational_special_needs  Gender Scholarship_holder  \\\n",
            "0                 NaN                        no  female                 no   \n",
            "1               127.3                        no    male                 no   \n",
            "2               142.5                        no    male                 no   \n",
            "3               124.8                        no    male                 no   \n",
            "4               119.6                        no  female                 no   \n",
            "...               ...                       ...     ...                ...   \n",
            "4420            122.2                        no    male                 no   \n",
            "4421            119.0                        no  female                 no   \n",
            "4422            149.5                        no  female                yes   \n",
            "4423            153.8                        no  female                yes   \n",
            "4424            152.0                        no  female                 no   \n",
            "\n",
            "      Age_at_enrollment  Unemployment_rate  Inflation_rate   GDP    Target  \n",
            "0                   NaN                NaN             NaN   NaN   Dropout  \n",
            "1                  20.0               10.8             1.4  1.74   Dropout  \n",
            "2                  19.0               13.9            -0.3  0.79  Graduate  \n",
            "3                  19.0               10.8             1.4  1.74   Dropout  \n",
            "4                  20.0                9.4            -0.8 -3.12  Graduate  \n",
            "...                 ...                ...             ...   ...       ...  \n",
            "4420               19.0               15.5             2.8 -4.06  Graduate  \n",
            "4421               18.0               11.1             0.6  2.02   Dropout  \n",
            "4422               30.0               13.9            -0.3  0.79   Dropout  \n",
            "4423               20.0                9.4            -0.8 -3.12  Graduate  \n",
            "4424               22.0               12.7             3.7 -1.70  Graduate  \n",
            "\n",
            "[4425 rows x 15 columns]\n"
          ]
        }
      ],
      "source": [
        "from pandas.core.reshape.pivot import pivot_table\n",
        "import pandas as pd\n",
        "\n",
        "# Read the data from the CSV file\n",
        "data = pd.read_csv('student_data_2.csv')\n",
        "print(data)\n",
        "\n",
        "# Print the number of rows and columns\n",
        "#print(data.shape)\n",
        "#print()\n",
        "\n",
        "# Replace NaN wth 0\n",
        "#data2 = data.fillna(0)\n",
        "\n",
        "# Replace ? with unknown\n",
        "#data2.replace('?', 'unknown', inplace=True)\n",
        "\n",
        "# Print data\n",
        "#print(data2)\n",
        "#print()\n",
        "\n",
        "status2 = pd.crosstab(data['Course'], data['Target'])\n",
        "\n",
        "#print(status2)\n"
      ]
    },
    {
      "cell_type": "markdown",
      "source": [
        "## Data Cleansing:"
      ],
      "metadata": {
        "id": "XCfbPMYBnWH9"
      }
    },
    {
      "cell_type": "code",
      "source": [
        "import pandas as pd\n",
        "\n"
      ],
      "metadata": {
        "id": "LH95Tbjtnd_0"
      },
      "execution_count": null,
      "outputs": []
    },
    {
      "cell_type": "markdown",
      "source": [
        "## Univariate Analysis:"
      ],
      "metadata": {
        "id": "P8CcQc44npL-"
      }
    },
    {
      "cell_type": "code",
      "source": [
        "import pandas as pd\n",
        "\n"
      ],
      "metadata": {
        "id": "CvlbDPb-nt-n"
      },
      "execution_count": null,
      "outputs": []
    },
    {
      "cell_type": "markdown",
      "source": [
        "## Bivariate Analysis"
      ],
      "metadata": {
        "id": "bG7MsBM0n0Xi"
      }
    },
    {
      "cell_type": "code",
      "source": [
        "import pandas as pd\n",
        "\n"
      ],
      "metadata": {
        "id": "1yYWjKkGn45M"
      },
      "execution_count": null,
      "outputs": []
    },
    {
      "cell_type": "markdown",
      "source": [
        "## Conclusions:"
      ],
      "metadata": {
        "id": "k1SdpkWhoBZH"
      }
    }
  ]
}