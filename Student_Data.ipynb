{
  "nbformat": 4,
  "nbformat_minor": 0,
  "metadata": {
    "colab": {
      "provenance": [],
      "authorship_tag": "ABX9TyNis4ryUbSGbThsHEFn2luQ",
      "include_colab_link": true
    },
    "kernelspec": {
      "name": "python3",
      "display_name": "Python 3"
    },
    "language_info": {
      "name": "python"
    }
  },
  "cells": [
    {
      "cell_type": "markdown",
      "metadata": {
        "id": "view-in-github",
        "colab_type": "text"
      },
      "source": [
        "<a href=\"https://colab.research.google.com/github/Shane-a-na/bins/blob/master/Student_Data.ipynb\" target=\"_parent\"><img src=\"https://colab.research.google.com/assets/colab-badge.svg\" alt=\"Open In Colab\"/></a>"
      ]
    },
    {
      "cell_type": "markdown",
      "source": [
        "## Introduction and Preliminary Findings:"
      ],
      "metadata": {
        "id": "B4bPxJNomxW3"
      }
    },
    {
      "cell_type": "code",
      "execution_count": null,
      "metadata": {
        "id": "zTbr66Wm_24-"
      },
      "outputs": [],
      "source": [
        "import pandas as pd\n",
        "import numpy as np\n",
        "\n",
        "data = pd.read_csv('student_data_2.csv')  # Loads and reads the .CSV file\n",
        "print(data)                               # Print the 'Dirty' data before any Cleansing\n",
        "print()\n",
        "print(data.shape)                         # Prinr data rows and columns before Cleansing"
      ]
    },
    {
      "cell_type": "markdown",
      "source": [
        "## Data Cleansing:"
      ],
      "metadata": {
        "id": "XCfbPMYBnWH9"
      }
    },
    {
      "cell_type": "code",
      "source": [
        "#import pandas as pd\n",
        "#import numpy as np\n",
        "\n",
        "# Read the data from the CSV file\n",
        "#data = pd.read_csv('student_data_2.csv')\n",
        "#print(data)                               # Print the 'Dirty' data before any Cleansing\n",
        "#print()\n",
        "#print('*******************************')  # Print Break to segregate the 'Dirty' and 'Clean' data\n",
        "#print()\n",
        "print('DATA CLEANED')                     # All 'NaN' and '?' that had been put in the data has been removed so there is less noise to filter\n",
        "print()\n",
        "data.replace('?', pd.NA, inplace=True)    # Replace all '?' with 'NA' to prevent anomalies\n",
        "data2=data.dropna(axis=1)\n",
        "print(data2.dropna())                     # Print new data with NA dropped\n",
        "print()\n",
        "print(data2.shape)                        # Print data rows and columns after Cleansing\n",
        "data2.head(4424)"
      ],
      "metadata": {
        "id": "LH95Tbjtnd_0"
      },
      "execution_count": null,
      "outputs": []
    },
    {
      "cell_type": "markdown",
      "source": [
        "## Univariate Analysis:"
      ],
      "metadata": {
        "id": "P8CcQc44npL-"
      }
    },
    {
      "cell_type": "code",
      "source": [
        "# import pandas as pd\n",
        "\n",
        "\n",
        "data2['Target'].value_counts()            # Counts up the values in the 'Target' column"
      ],
      "metadata": {
        "id": "CvlbDPb-nt-n",
        "outputId": "fbe58b48-fb2f-4773-fb9c-5d6e89f392a1",
        "colab": {
          "base_uri": "https://localhost:8080/"
        }
      },
      "execution_count": 51,
      "outputs": [
        {
          "output_type": "execute_result",
          "data": {
            "text/plain": [
              "Graduate    2209\n",
              "Dropout     1422\n",
              "Enrolled     794\n",
              "Name: Target, dtype: int64"
            ]
          },
          "metadata": {},
          "execution_count": 51
        }
      ]
    },
    {
      "cell_type": "markdown",
      "source": [
        "## Bivariate Analysis"
      ],
      "metadata": {
        "id": "bG7MsBM0n0Xi"
      }
    },
    {
      "cell_type": "code",
      "source": [
        "import pandas as pd\n",
        "\n"
      ],
      "metadata": {
        "id": "1yYWjKkGn45M"
      },
      "execution_count": 52,
      "outputs": []
    },
    {
      "cell_type": "markdown",
      "source": [
        "## Conclusions:"
      ],
      "metadata": {
        "id": "k1SdpkWhoBZH"
      }
    }
  ]
}