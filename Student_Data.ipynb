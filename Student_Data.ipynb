{
  "nbformat": 4,
  "nbformat_minor": 0,
  "metadata": {
    "colab": {
      "provenance": [],
      "authorship_tag": "ABX9TyMuOLa5rs2EUVXL75NLol2t",
      "include_colab_link": true
    },
    "kernelspec": {
      "name": "python3",
      "display_name": "Python 3"
    },
    "language_info": {
      "name": "python"
    }
  },
  "cells": [
    {
      "cell_type": "markdown",
      "metadata": {
        "id": "view-in-github",
        "colab_type": "text"
      },
      "source": [
        "<a href=\"https://colab.research.google.com/github/Shane-a-na/bins/blob/master/Student_Data.ipynb\" target=\"_parent\"><img src=\"https://colab.research.google.com/assets/colab-badge.svg\" alt=\"Open In Colab\"/></a>"
      ]
    },
    {
      "cell_type": "code",
      "execution_count": null,
      "metadata": {
        "id": "zTbr66Wm_24-"
      },
      "outputs": [],
      "source": [
        "from pandas.core.reshape.pivot import pivot_table\n",
        "import pandas as pd\n",
        "\n",
        "# Read the data from the CSV file\n",
        "data = pd.read_csv('student_data_2.csv')\n",
        "print(data)\n",
        "# Print the number of rows and columns\n",
        "#print(data.shape)\n",
        "#print()\n",
        "\n",
        "# Replace NaN wth 0\n",
        "#data2 = data.fillna(0)\n",
        "\n",
        "# Replace ? with unknown\n",
        "#data2.replace('?', 'unknown', inplace=True)\n",
        "\n",
        "# Print data\n",
        "#print(data2)\n",
        "#print()\n",
        "\n",
        "status2 = pd.crosstab(data['Course'], data['Target'])\n",
        "\n",
        "print(status2)\n"
      ]
    }
  ]
}